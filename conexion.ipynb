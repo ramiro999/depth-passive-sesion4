{
  "nbformat": 4,
  "nbformat_minor": 0,
  "metadata": {
    "colab": {
      "provenance": []
    },
    "kernelspec": {
      "name": "python3",
      "display_name": "Python 3"
    },
    "language_info": {
      "name": "python"
    }
  },
  "cells": [
    {
      "cell_type": "markdown",
      "source": [
        "# Conexion repositorio en GitHub"
      ],
      "metadata": {
        "id": "3J4ZZE7N8DZw"
      }
    },
    {
      "cell_type": "markdown",
      "source": [
        "# 1. Ejecutar por primera vez"
      ],
      "metadata": {
        "id": "-oEJQ0Sz7zSp"
      }
    },
    {
      "cell_type": "code",
      "execution_count": 1,
      "metadata": {
        "colab": {
          "base_uri": "https://localhost:8080/"
        },
        "id": "-mFUPEA17u4H",
        "outputId": "747301fa-a9d2-4780-c909-a0ca6a471a49"
      },
      "outputs": [
        {
          "output_type": "stream",
          "name": "stdout",
          "text": [
            "Mounted at /content/drive\n"
          ]
        }
      ],
      "source": [
        "# Conectar al drive\n",
        "from google.colab import drive\n",
        "drive.mount('/content/drive')"
      ]
    },
    {
      "cell_type": "code",
      "source": [
        "# Entrar a la carpeta\n",
        "%cd '/content/drive/MyDrive'"
      ],
      "metadata": {
        "colab": {
          "base_uri": "https://localhost:8080/"
        },
        "id": "oPr8Znw-73JE",
        "outputId": "b86679e1-1110-4967-8632-7b2b692bdabf"
      },
      "execution_count": 2,
      "outputs": [
        {
          "output_type": "stream",
          "name": "stdout",
          "text": [
            "/content/drive/MyDrive\n"
          ]
        }
      ]
    },
    {
      "cell_type": "code",
      "source": [
        "# Clonar el repositorio\n",
        "!git clone https://github.com/ramiro999/depth-passive-sesion4.git"
      ],
      "metadata": {
        "colab": {
          "base_uri": "https://localhost:8080/"
        },
        "id": "UUErHiJp74p0",
        "outputId": "d46dadc6-d6af-45d1-a7e1-881324aa1b8d"
      },
      "execution_count": 3,
      "outputs": [
        {
          "output_type": "stream",
          "name": "stdout",
          "text": [
            "Cloning into 'depth-passive-sesion4'...\n",
            "remote: Enumerating objects: 73, done.\u001b[K\n",
            "remote: Counting objects: 100% (73/73), done.\u001b[K\n",
            "remote: Compressing objects: 100% (60/60), done.\u001b[K\n",
            "remote: Total 73 (delta 18), reused 50 (delta 8), pack-reused 0\u001b[K\n",
            "Receiving objects: 100% (73/73), 20.69 MiB | 15.26 MiB/s, done.\n",
            "Resolving deltas: 100% (18/18), done.\n"
          ]
        }
      ]
    },
    {
      "cell_type": "markdown",
      "source": [
        "# 2. Al momento de actualizar"
      ],
      "metadata": {
        "id": "X0jwD9B977CG"
      }
    },
    {
      "cell_type": "code",
      "source": [
        "# conectando con drive\n",
        "from google.colab import drive\n",
        "drive.mount('/content/drive')"
      ],
      "metadata": {
        "id": "yxMQcoZO790Q"
      },
      "execution_count": null,
      "outputs": []
    },
    {
      "cell_type": "code",
      "source": [
        "# entrar a la carpeta\n",
        "%cd '/content/drive/MyDrive/depth-passive-sesion4'"
      ],
      "metadata": {
        "id": "myW9Y0Ir7_Fb"
      },
      "execution_count": null,
      "outputs": []
    },
    {
      "cell_type": "code",
      "source": [
        "# actualizar el repo\n",
        "!git pull"
      ],
      "metadata": {
        "id": "gKefhrj48AUM"
      },
      "execution_count": null,
      "outputs": []
    }
  ]
}